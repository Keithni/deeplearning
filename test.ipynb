{
  "nbformat": 4,
  "nbformat_minor": 0,
  "metadata": {
    "colab": {
      "name": "test.ipynb",
      "version": "0.3.2",
      "provenance": [],
      "include_colab_link": true
    },
    "kernelspec": {
      "name": "python3",
      "display_name": "Python 3"
    }
  },
  "cells": [
    {
      "cell_type": "markdown",
      "metadata": {
        "id": "view-in-github",
        "colab_type": "text"
      },
      "source": [
        "<a href=\"https://colab.research.google.com/github/Keithni/deeplearning/blob/master/test.ipynb\" target=\"_parent\"><img src=\"https://colab.research.google.com/assets/colab-badge.svg\" alt=\"Open In Colab\"/></a>"
      ]
    },
    {
      "cell_type": "code",
      "metadata": {
        "id": "dppnz-qnrqeJ",
        "colab_type": "code",
        "outputId": "20487370-bc34-4196-8f2e-f41b5a7d7e30",
        "colab": {
          "base_uri": "https://localhost:8080/",
          "height": 87
        }
      },
      "source": [
        "import numpy as np\n",
        "a = np.ones(3)\n",
        "print(a)\n",
        "import tensorflow as tf\n",
        "w = tf.Variable(tf.random_normal(shape=[3,3],mean=0,stddev=1.0,dtype=tf.float32))\n",
        "\n",
        "with tf.Session() as sess:\n",
        "  sess.run(tf.global_variables_initializer())\n",
        "  print(sess.run(w))"
      ],
      "execution_count": 0,
      "outputs": [
        {
          "output_type": "stream",
          "text": [
            "[1. 1. 1.]\n",
            "[[ 1.8043091   0.30281034 -0.0960013 ]\n",
            " [ 0.967039   -1.5752832   0.49453807]\n",
            " [-1.3700291  -0.23232439 -0.69159985]]\n"
          ],
          "name": "stdout"
        }
      ]
    }
  ]
}