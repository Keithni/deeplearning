{
  "nbformat": 4,
  "nbformat_minor": 0,
  "metadata": {
    "colab": {
      "name": "test.ipynb",
      "version": "0.3.2",
      "provenance": [],
      "collapsed_sections": [],
      "include_colab_link": true
    },
    "kernelspec": {
      "name": "python3",
      "display_name": "Python 3"
    }
  },
  "cells": [
    {
      "cell_type": "markdown",
      "metadata": {
        "id": "view-in-github",
        "colab_type": "text"
      },
      "source": [
        "<a href=\"https://colab.research.google.com/github/Keithni/deeplearning/blob/master/test.ipynb\" target=\"_parent\"><img src=\"https://colab.research.google.com/assets/colab-badge.svg\" alt=\"Open In Colab\"/></a>"
      ]
    },
    {
      "cell_type": "code",
      "metadata": {
        "id": "dppnz-qnrqeJ",
        "colab_type": "code",
        "outputId": "cfaab878-5a24-41af-9a90-d62b6ac941f5",
        "colab": {
          "base_uri": "https://localhost:8080/",
          "height": 104
        }
      },
      "source": [
        "import numpy as np\n",
        "a = np.ones(3)\n",
        "print(a)\n",
        "import tensorflow as tf\n",
        "w = tf.Variable(tf.random_normal(shape=[3,3],mean=0,stddev=1.0,dtype=tf.float32))\n",
        "b = tf.Variable(tf.zeros(shape=[3]))\n",
        "\n",
        "with tf.Session() as sess:\n",
        "  sess.run(tf.global_variables_initializer())\n",
        "  print(sess.run(w))\n",
        "  print(sess.run(b))"
      ],
      "execution_count": 8,
      "outputs": [
        {
          "output_type": "stream",
          "text": [
            "[1. 1. 1.]\n",
            "[[-0.4589805  -0.2126134   0.8038739 ]\n",
            " [-1.2593173   0.9210603   1.6983933 ]\n",
            " [ 0.12988652  1.0019774   1.3659357 ]]\n",
            "[0. 0. 0.]\n"
          ],
          "name": "stdout"
        }
      ]
    }
  ]
}